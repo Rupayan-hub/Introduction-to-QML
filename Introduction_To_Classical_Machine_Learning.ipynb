{
 "cells": [
  {
   "cell_type": "markdown",
   "metadata": {},
   "source": [
    "# An Introduction Classical to Quantum Machine Learning\n",
    "<a id=\"the_top\"></a>"
   ]
  },
  {
   "cell_type": "markdown",
   "metadata": {},
   "source": [
    "## What is Machine Learning\n"
   ]
  },
  {
   "cell_type": "markdown",
   "metadata": {},
   "source": [
    "Machine learning is a tool for turning information into knowledge. In simple words, it’s the science of getting computers to learn & act as humans do, and improve their leaning over time in an autonomous way without the need of anyone else. Though machine learning is the field of computer science, it different from classical computational approaches."
   ]
  },
  {
   "cell_type": "markdown",
   "metadata": {},
   "source": [
    "![](https://global-uploads.webflow.com/5d3ec351b1eba4332d213004/5efef25fa0b62ddd046d0f92_image1_s.png)"
   ]
  },
  {
   "cell_type": "markdown",
   "metadata": {},
   "source": [
    "## History of Machine Learning "
   ]
  },
  {
   "cell_type": "markdown",
   "metadata": {},
   "source": [
    "<font color=green>\n",
    "The Concept of Machine Intelligence"
   ]
  },
  {
   "cell_type": "markdown",
   "metadata": {},
   "source": [
    "Can instruments actually be intelligent? Or just run the machine until it works according to human instructions. In 1936, Allen Turing came up with the idea of the Turing test to answer the question of machine intelligence. Turing suggests that artificial learning agents can learn on their own learning machine theory. Inspired by Turing theory, later genetic algorithms were developed. In 1913, a few years before Turing, Andrei Markov incarnated the Markov chain theory. Markov decision processes are used in reinforcement learning.\n",
    "\n",
    "In 1943, Warren McCluch and Walter Pitts attempted to create artificial neural networks using artificial neurons, imitating the structure of neurons in the human brain. They basically try to implement the mathematical model of neural networks through electrical circuits. Based on their efforts, in 1950, Dean Edmund and another scientist created the first neural network that could learn on its own. However, In 1952, Arthur Samuel was the first to create a machine learning program that could play checker games on IBM computers. He later coined the term machine learning in 1959.\n"
   ]
  },
  {
   "cell_type": "markdown",
   "metadata": {},
   "source": [
    "## Types of Machine Learning"
   ]
  },
  {
   "cell_type": "markdown",
   "metadata": {},
   "source": [
    "Actually Machine Learning can be divided into four broad types:\n",
    "\n",
    "Supervised Learning- Supervised learning is teaching like a human child. In supervised learning the machine is taught by example with label dataset.\n",
    "\n",
    "Unsupervised Learning- The machine learns from un-labeled data. Means, there is no correct answer given to the machine to learn, but the machine must hopefully find patterns from the data to come up with an answer.\n",
    "\n",
    "Semi-supervised learning- It can be mixed of supervised & unsupervised learning techniques. As some data is labelled & most of it is unlabeled.\n",
    "\n",
    "Reinforcement learning- It performs a certain action on its own, evaluates the result of the action, and then decides what to do next, keeping the end goal in mind. \n",
    "\n",
    "In here we can notice that how quantum computing and machine learning meet, we could think of the input and/or the processing part being classical or quantum giving four combinations. If both are classical, we have classical machine learning. Classical ma-chine  learning can be used to support quantum computing, for example in quantum error correction Quantum processes can  also be used as an inspiration for classical algorithms, such as tensor networks, simulated annealing and in optimization. If the input is a quantum state and the computing is classical, the machine learning routine is used to translate quantum information into classical information. If both the input and processing are quantum, this will be real quantum machine learning, however, only a few results in this direction are published yet. In most quantum machine learning research, however, the focus is on the fourth case where the input contains classical in-formation and processing is quantum.\n"
   ]
  },
  {
   "cell_type": "markdown",
   "metadata": {},
   "source": [
    "## Quantum Computing "
   ]
  },
  {
   "cell_type": "markdown",
   "metadata": {},
   "source": [
    "Quantum computing is a new type of mechanical computational method that is being vigorously researched. It is thought that quantum computers could revolutionize human civilization. With Quantum Computing, we've reached the pinnacle of computer technology that defies logic as well as imagination. The transistors used in today's computers are so small that they can be made with the technology at hand. So computer inventors have begun to look for possible solutions at the nuclear and ultra-atomic levels, known as quantum computing."
   ]
  },
  {
   "cell_type": "markdown",
   "metadata": {},
   "source": [
    "## Quantum Algorithm "
   ]
  },
  {
   "cell_type": "markdown",
   "metadata": {},
   "source": [
    "Grover search an algorithm that is a step-by-step procedure to perform a calculation, or a sequence of instructions to solve a problem, where each step can be performed on a computer. Therefore, an algorithm is a quantum algorithm when it can be performed on a quantum computer. In principle it is possible to run all classical algorithms on a quantum computer. There are some more famous quantum algorithms besides Shar's algorithm. One of them came from Love Grover in 1906. This is called Grover's sequence or algorithm in the textbook. "
   ]
  },
  {
   "cell_type": "markdown",
   "metadata": {},
   "source": [
    "<font color=green>\n",
    " Grover’s Algorithm "
   ]
  },
  {
   "cell_type": "markdown",
   "metadata": {},
   "source": [
    "**Grover’s Algorithm** It works well when we need to find an item from an\n",
    "unsorted list. It uses a state that is a superposition of all input\n",
    "states. This superposition is created by beginning with a register of\n",
    "qubits in the state \\|0\\><sup>⊗n</sup>, with n being the number of\n",
    "qubits. Then, a Hadamard transformation is applied to each qubit:\n",
    "$H^{\\otimes n}{|0 >}^{\\otimes n}\\  = \\ \\frac{1}{\\sqrt{N}}\\sum_{x = 0}^{N - 1}{|x >}$.\n",
    "We can call this state \\|*ψ*\\>*.*\n",
    "Hence$|\\psi > = \\ \\frac{1}{\\sqrt{N}}\\sum_{x = 0}^{N - 1}{|x >}$.\n",
    "\n",
    "To illustrate what this means, I give the example of a simple register\n",
    "consisting 2 qubits.\n",
    "$\\left| \\psi > \\  = \\ H^{\\otimes 2}{|0 >}^{\\otimes 2}\\  = \\ H \\right|0 > H|0 > \\  = \\ \\frac{1}{\\sqrt{2}}(|0 > + \\left| 1 > \\right)*\\frac{1}{\\sqrt{2}}(|0 > + \\left| 1 > \\right) = \\frac{1}{2}(|00 > + |01 > + |10 > + \\left| 11 > \\right) = \\ \\frac{1}{\\sqrt{4}}\\sum_{x = 0}^{4 - 1}{|x > .}$\n",
    "The notation \\|*x*\\> means\n",
    "$|0 > \\equiv |00 > ,\\ |1 > \\equiv |01 > ,\\ |2 > \\equiv |10 > ,\\ |3 > \\equiv |11 > .$\n",
    "\n",
    "Grover’s Algorithm then rotates this state using Grover’s Iteration\n",
    "several times until it is in the desired input. The Grover iteration\n",
    "includes an Oracle which determines if the superposition state is at the\n",
    "desired input. The Grover iteration can be writes as\n",
    "$G = \\left( 2\\left| \\psi > < \\psi \\right| - I \\right)O$, with *O* the\n",
    "Oracle and $|\\psi > = \\ \\frac{1}{\\sqrt{N}}\\sum_{x = 0}^{N - 1}{|x >}$."
   ]
  },
  {
   "cell_type": "markdown",
   "metadata": {},
   "source": [
    "<font color=green>\n",
    "Shor's Algorithm"
   ]
  },
  {
   "cell_type": "markdown",
   "metadata": {},
   "source": [
    "**Shor’s Algorithm** It starts with an integer that is the multiplication\n",
    "of two prime numbers. It then finds what those two prime numbers are.\n",
    "\n",
    "Here is a summary of the algorithm, calling *N* the integer we wish to\n",
    "factor:\n",
    "\n",
    "1.  Pick a random integer *a*, for which$\\ 0 < a < N.$\n",
    "\n",
    "2.  Compute $g = gcd(a,N)$ in which *gcd(a,N)* is the greatest common\n",
    "    denominator (or divisor) of *a* and *N*.\n",
    "\n",
    "3.  If$g \\neq 1$, *g* and $N/g$ are the two prime numbers. You’re done.\n",
    "    If $g = 1$, you must continue to step 4.\n",
    "\n",
    "4.  Find the period\n",
    "    of$f\\left( x \\right) = a^{x}\\left( \\text{mod\\ N} \\right)$, where\n",
    "    *mod* stands for modulo. In other words, find the integer *r* for\n",
    "    which$f\\left( x \\right) = f(x + r)$.\n",
    "\n",
    "5.  If *r* is odd, sorry, you’re out of luck. You must return to step 1\n",
    "    with a new random integer.\n",
    "\n",
    "6.  If *a<sup>r/2</sup>(mod N) = -1(mod N),* sorry, you’re out of luck.\n",
    "    You must return to step 1 with a new random number.\n",
    "\n",
    "7.  If you’ve made it this far, congratulations! The two prime numbers\n",
    "    are *gcd(a<sup>r/2</sup>+1,N)* and *gcd(a<sup>r/2</sup>-1,N)*.\n",
    "    (That’s why *r* needed to be even. *r/2* needs to be an integer)\n",
    "\n",
    "For a small *N*, for instance 15, all of the aforementioned steps can be\n",
    "done with pencil and paper. For a large *N*, all of the aforementioned\n",
    "steps can be done on a classical computer.\n",
    "\n",
    "For a very large *N*, such as those used for computer encryption, all\n",
    "steps can be done on a classical computer, except step 4. Step 4 needs\n",
    "to be done on a quantum computer (QC). A QC has to calculate\n",
    "$a^{x}\\left( \\text{mod\\ N} \\right)$ for *x=0,1,2…* in order to extract\n",
    "*r*. Using the Quantum Fourier Transform (QFT) by a circuit with quantum\n",
    "gates, *x* is stored in a quantum register which is in a superposition\n",
    "of many values. This allows the QC to calculate\n",
    "$a^{x}\\left( \\text{mod\\ N} \\right)$ for many values simultaneously."
   ]
  },
  {
   "cell_type": "markdown",
   "metadata": {},
   "source": [
    "## Which algorithm used in QML "
   ]
  },
  {
   "cell_type": "markdown",
   "metadata": {},
   "source": [
    "There have lots of algorithms have already been developed for quantum computers. Among them is the Grover’s algorithm for finding unstructured databases & Shor’s algorithms are notable for producing large numbers. Besides these there’ve also lots of using with these algorithms."
   ]
  }
 ],
 "metadata": {
  "kernelspec": {
   "display_name": "Python 3",
   "language": "python",
   "name": "python3"
  },
  "language_info": {
   "codemirror_mode": {
    "name": "ipython",
    "version": 3
   },
   "file_extension": ".py",
   "mimetype": "text/x-python",
   "name": "python",
   "nbconvert_exporter": "python",
   "pygments_lexer": "ipython3",
   "version": "3.8.5"
  }
 },
 "nbformat": 4,
 "nbformat_minor": 4
}
