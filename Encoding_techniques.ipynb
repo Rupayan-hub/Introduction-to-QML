{
 "cells": [
  {
   "cell_type": "markdown",
   "id": "5a582d8f",
   "metadata": {},
   "source": [
    "<h1> Encoding of Data on a Quantum Computer</h1>"
   ]
  },
  {
   "cell_type": "markdown",
   "id": "d9403f5a",
   "metadata": {},
   "source": [
    "When it comes about quantum machine learning, encoding of data is the first step and it plays one of the most important role in the overall algorithm. Proper representation of data can make the work for other part of the algorithm easier if done properly  otherwise, as well difficult if a wrong techinique for representation is chosen. You will get to know how as we proceeds with the topic in detail."
   ]
  },
  {
   "cell_type": "markdown",
   "id": "e2ae4dc9",
   "metadata": {},
   "source": [
    "In the present NISQ era most of the algorithms works with classical data on quantum frameworks. While looking at the traditional quantum computing, one may a often find the the word state prepration. State prepration is the process of putting quantum computers in initial state that envodes the input to the algorithm. In quantum machine learning algorithm, how we encode data has a major impact over the whole algorithm. "
   ]
  },
  {
   "cell_type": "markdown",
   "id": "d8f8fa3d",
   "metadata": {},
   "source": [
    "    ###Write more things in introduction about runtime, featuremap impact etc"
   ]
  },
  {
   "cell_type": "markdown",
   "id": "1015050d",
   "metadata": {},
   "source": [
    "In order to solve supervised machine learning tasks based on classical datasets, the quan\u0002tum algorithm requires an information encoding and read out step that can be highly non-trivial procedures, and it is important to consider them in runtime estimates."
   ]
  },
  {
   "cell_type": "markdown",
   "id": "e327a26a",
   "metadata": {},
   "source": [
    "<img src=\"1.png\" width=\"450\" height=\"300\">"
   ]
  },
  {
   "cell_type": "markdown",
   "id": "f96a68b1",
   "metadata": {},
   "source": []
  },
  {
   "cell_type": "markdown",
   "id": "ec363793",
   "metadata": {},
   "source": []
  },
  {
   "cell_type": "markdown",
   "id": "1e656f33",
   "metadata": {},
   "source": [
    "This image represents the various encoding strategies:\n",
    "\n",
    "<img src=\"2.png\" width=\"600\" height=\"300\">\n",
    "\n",
    "Now, we will look into different types of encooding techniques in detail."
   ]
  },
  {
   "cell_type": "markdown",
   "id": "6f3ce1cc",
   "metadata": {},
   "source": []
  },
  {
   "cell_type": "markdown",
   "id": "b000382d",
   "metadata": {},
   "source": [
    "<b> 1. Encoding Binary Inputs into Basis States </b>\n",
    "    \n",
    "Data encoding in basis state is the most straightforward technique of data encoding. In this technique the computational basis state of a n-qubit system is associated with a classical n-bit string i.e. the state of each qubit is associated with a bit in the binary representation of the input feature."
   ]
  },
  {
   "cell_type": "markdown",
   "id": "22b21489",
   "metadata": {},
   "source": [
    "<b>Example:</b> \n",
    "\n",
    "Suppose you have an inital state of binary string 10110 and you want to encode it for quantum operations. Using basis state encoding technique the corresponding quantum state is: \n",
    "$$|10110\\rangle$$\n",
    "\n",
    "This can be encoded into the quantum circuit using NOT gates. The qubits in qiskit by default initiates with state $|0\\rangle$ and applying a NOT gate converts the state to $|1\\rangle$."
   ]
  },
  {
   "cell_type": "code",
   "execution_count": null,
   "id": "b9c7cc3a",
   "metadata": {},
   "outputs": [],
   "source": [
    "# we import all necessary methods and objects\n",
    "from qiskit import QuantumRegister, ClassicalRegister, QuantumCircuit, execute, Aer\n",
    "from random import randrange\n",
    "\n",
    "# we use 5 qubits \n",
    "q = QuantumRegister(5)\n",
    "\n",
    "qc = QuantumCircuit(q)\n",
    "\n",
    "qc.x(q[1])\n",
    "qc.x(q[2])\n",
    "qc.x(q[4])\n",
    "\n",
    "\n",
    "# draw the circuit\n",
    "display(qc.draw(output='mpl',reverse_bits=True))"
   ]
  },
  {
   "cell_type": "markdown",
   "id": "d66eba31",
   "metadata": {},
   "source": [
    "The binary data is now encoded into the quantum circuit, for confirmation let's take the measurement of the states:"
   ]
  },
  {
   "cell_type": "code",
   "execution_count": null,
   "id": "563d7873",
   "metadata": {},
   "outputs": [],
   "source": [
    "# we import all necessary methods and objects\n",
    "from qiskit import QuantumRegister, ClassicalRegister, QuantumCircuit, execute, Aer\n",
    "from qiskit.visualization import plot_histogram\n",
    "from random import randrange\n",
    "\n",
    "# we use 5 qubits \n",
    "q = QuantumRegister(5)\n",
    "c = ClassicalRegister(5)\n",
    "qc1 = QuantumCircuit(q,c)\n",
    "\n",
    "qc1.x(q[1])\n",
    "qc1.x(q[2])\n",
    "qc1.x(q[4])\n",
    "\n",
    "# define a barrier\n",
    "qc1.barrier()\n",
    "\n",
    "# measurement \n",
    "qc1.measure(q,c)  \n",
    "\n",
    "# draw the circuit\n",
    "display(qc1.draw(output='mpl',reverse_bits=True))\n",
    "\n",
    "# execute the circuit and read the results\n",
    "job = execute(qc1,Aer.get_backend('qasm_simulator'),shots=1024)\n",
    "\n",
    "counts = job.result().get_counts(qc1)\n",
    "        \n",
    "print(counts)\n",
    "\n",
    "#probability of state\n",
    "plot_histogram(counts)"
   ]
  },
  {
   "cell_type": "markdown",
   "id": "90800341",
   "metadata": {},
   "source": [
    "<b> 1.1 Encoding of single input <b>"
   ]
  },
  {
   "cell_type": "markdown",
   "id": "0bffdb67",
   "metadata": {},
   "source": [
    "Basic principle of basis state encoding is just introduced in the previous section. As aformentioned, state of each qubit is associated with a bit in binary string. This is not only constrained to integers converted to binary strings but rather can be generalized for decimals as well. Suppose we have a scalar value $x$ that can be represented as a $n$-bit binary sequence.\n",
    "\n",
    "$$b=b_sb_{n_{l-1}}...b_1b_0\\cdot b_{-1}b_{-2}.....b_{-n_r}$$\n",
    "\n",
    "Where, $n=(1+n_l+n_r)$, b_s is used for the representation of sign, $n_l$,$n_r$ represnts the left and right of the decimal dot respectively. \n",
    "?\n",
    "Original number $x$ can be retrived using \n",
    "\n",
    "$$x=(-1)^{b_s}(b_{n_{l-1}}2^{n_{l-1}}+...+b_02^0+b_{-1}2^{-1}+b_{-2}2^{-2}+...+b_{-n_r}2^{-n_r})$$\n",
    "\n",
    "The algorithm for the state prepration is very much straightforward, we only have to flip the qubits representing non-zero bits:\n",
    "\n",
    "$$U(b)=\\prod_{i=1}^{nN}X^{b_i}$$\n",
    "\n",
    "Corresponding circuit diagram is:\n",
    "\n",
    "<img src=\"3.png\" width=\"200\" height=\"100\">"
   ]
  },
  {
   "cell_type": "markdown",
   "id": "e83cfe4d",
   "metadata": {},
   "source": [
    "<b>Example</b>\n",
    "\n",
    "Suppose an input vector $x=(-2.625,0.150)$. Using fixed-point binary representation with a precisition of $n_l=2$,$n_r=3$ $x$ can be written as:\n",
    "\n",
    "$$x=(110.101,000.001)$$\n",
    "\n",
    "Corresponding binary sequence of length $nN$ where $N$ is the number of featurees in input and $n$ is the number of bits each feature requires is $110101000001$ and the corresponding quantum state will be:\n",
    "\n",
    "$$|x\\rangle=|110101000001\\rangle$$\n",
    "\n",
    "We the correcpodning circuit can be drawn as follows:"
   ]
  },
  {
   "cell_type": "code",
   "execution_count": null,
   "id": "2f50f521",
   "metadata": {},
   "outputs": [],
   "source": [
    "# we import all necessary methods and objects\n",
    "from qiskit import QuantumRegister, ClassicalRegister, QuantumCircuit, execute, Aer\n",
    "from random import randrange\n",
    "\n",
    "vecx=[1,1,0,1,0,1,0,0,0,0,0,1]\n",
    "N=len(vecx)\n",
    "q = QuantumRegister(N)\n",
    "\n",
    "qc2 = QuantumCircuit(q)\n",
    "\n",
    "\n",
    "for i in range(N):\n",
    "    if vecx[i]==1:\n",
    "        qc2.x(q[N-i-1])\n",
    "\n",
    "# draw the circuit\n",
    "display(qc2.draw(output='mpl',reverse_bits=True))"
   ]
  },
  {
   "cell_type": "markdown",
   "id": "b1ce2c85",
   "metadata": {},
   "source": [
    "It is evident that the basis encoding is qubit-efficient, as we require at most $n$ gates. But a drawback of this representation is that it requires a lage number of qubits if we want to represent data with high precisition."
   ]
  },
  {
   "cell_type": "markdown",
   "id": "47c36703",
   "metadata": {},
   "source": [
    "<b> 1.2 Encoding of data in superposition  <b>"
   ]
  },
  {
   "cell_type": "markdown",
   "id": "a4363105",
   "metadata": {},
   "source": [
    "Let's assume we have a binary dataset $\\mathscr{D}$ where each state $x^m\\in \\mathscr{D}$ is represented by a binary string of the form\n",
    "\n",
    "$$b^m=(b_1^m,...,b_n^m)$$\n",
    "\n",
    "Where, $b_i^m\\in {0,1}$ for $i=1,...,n$\n",
    "\n",
    "A superposition of basis states $|{x^m}\\rangle$ of the form\n",
    "\n",
    "$$\\mathscr{D}=\\frac{1}{\\sqrt{M}}\\sum_{m=1}^{M}|{x^m}\\rangle$$\n"
   ]
  },
  {
   "cell_type": "markdown",
   "id": "58fa113f",
   "metadata": {},
   "source": [
    "<b>Example</b>\n",
    "\n",
    "Let's say, we have $\\mathscr{D}$={$(01,01),(11,10)$}.\n",
    "\n",
    "Therefore, the binary inputs are $x^1=(01,01)$ and $x^2=(11,10)$.\n",
    "\n",
    "Corresponding quantum basis states are: $|x^1\\rangle=|0101\\rangle$ and $|x^2\\rangle=|1110\\rangle$\n",
    "\n",
    "The full data superposition will result in:\n",
    "\n",
    "$$|\\mathscr{D}\\rangle=\\frac{1}{\\sqrt{2}}(|0101\\rangle+|1110\\rangle)$$\n",
    "\n",
    "In the computational basis the basis states are:\n",
    "\n",
    "$$|0101\\rangle= |01\\rangle \\otimes |01\\rangle=(0,0,0,0,1,0,0,0,0,0,0,0,0,0,0,0)^T$$\n",
    "\n",
    "$$|1110\\rangle= |11\\rangle \\otimes |10\\rangle=(0,0,0,0,0,0,0,0,0,0,0,0,0,0,1,0)^T$$\n",
    "\n",
    "So, the amplitude vector in the computational basis will be:\n",
    "\n",
    "$$\\alpha=\\frac{1}{\\sqrt{2}}(0,0,0,0,1,0,0,0,0,0,0,0,0,0,1,0)^T$$\n",
    "\n",
    "Leaving the case of very small dimensions, basis encoded datasets generally gives out sparse amplitude vectors as $2^n$ is very large in comparision to the number of non-zero amplitudes $M$.\n",
    "\n",
    "Most used technique to construct such basis encoding datat superposition in linear time in M and n is the Ventura and Martinez's state prepration routine."
   ]
  },
  {
   "cell_type": "markdown",
   "id": "5d18fc8d",
   "metadata": {},
   "source": [
    "<b> Ventura and Martinez’s state prepration algorithm </b>\n",
    "    \n",
    "    \n",
    "    "
   ]
  },
  {
   "cell_type": "code",
   "execution_count": null,
   "id": "afe57a66",
   "metadata": {},
   "outputs": [],
   "source": []
  },
  {
   "cell_type": "markdown",
   "id": "bee8f8f3",
   "metadata": {},
   "source": [
    "<b> 2. Amplitude encoding </b>\n",
    "    \n",
    "Amplitude encoding is not very common in quantum computing but a number of qunatum machine learning algorithms required cncoding of not jut real but complex-valued input vectors as well. Such input vectors $x\\in \\mathit{\\mathbb{c}^N}$ are often encoded in the amplitudes of quantum state."
   ]
  },
  {
   "cell_type": "markdown",
   "id": "42d3030d",
   "metadata": {},
   "source": [
    "    ###write about restrictions while using this..... state mapping, normalization\n"
   ]
  },
  {
   "cell_type": "markdown",
   "id": "aaf14d9f",
   "metadata": {},
   "source": [
    "$$x=(x_1, x_2,...,x_{2^n})^T$$\n",
    "\n",
    "Where, $\\sum_i|x_i|^2=1$.\n",
    "\n",
    "This quantum state can be represented as:\n",
    "\n",
    "$$|\\psi_x\\rangle=\\sum_{i=0}^{N-1}x_i|i\\rangle$$\n",
    "\n",
    "Where, $N=2^n$.\n",
    "\n",
    "In similar way an entire dataset, a matrix $A\\in \\mathit{\\mathbb{c}^{2^n\\times2^m}}$ having entries $a_{ij}$ with the condition $\\sum_{ij}|a_{ij}|^2=1$, can be encoded as:\n",
    "\n",
    "$$|\\psi_A\\rangle=\\sum_{i=0}^{2^n-1}\\sum_{j=0}^{2^m-1}a_{ij}|i\\rangle|j\\rangle$$"
   ]
  },
  {
   "cell_type": "markdown",
   "id": "5fc6e02d",
   "metadata": {},
   "source": [
    "<b> Example 1</b>\n",
    "\n",
    "Suppose, we have a data set $x=(0.1,-0.6,0.0,1.0)$.\n",
    "\n",
    "After normalization we get: $x=(0.073,-0.438,0.000,0.730)$\n",
    "\n",
    "This can be represented with the help of $N$(say) number of qubits.\n",
    "\n",
    "$$N=log_2(Number\\ of\\ elements\\ in\\ x)=log_2(4)=2$$\n",
    "\n",
    "So, we can represent the state with the help of 2 qubits. And the representation will be:\n",
    "\n",
    "$$|\\psi_x\\rangle = 0.073|00\\rangle-0.438|01\\rangle+0.000|10\\rangle+0.730|11\\rangle$$\n",
    "\n",
    "<b>Note:</b> It is to be noted that if we interpret the first qubit as an index for the row and the second qubit as an index for the column, then the above representation $|\\psi_x\\rangle$ is also the representation of the matrix:\n",
    "\n",
    "$$A=\\begin{pmatrix}\n",
    "0.073 & -0.438 \\\\\n",
    "0.000 & 0.730 \n",
    "\\end{pmatrix}$$"
   ]
  },
  {
   "cell_type": "markdown",
   "id": "7bd89684",
   "metadata": {},
   "source": [
    "<b> 2.1 Amplitude-Efficient State Preparation <b>"
   ]
  },
  {
   "cell_type": "markdown",
   "id": "614018a7",
   "metadata": {},
   "source": [
    "For a n-qubit quantum computer, the theoretical lower bound of the depth of an arbitrary state preparation circuit is known to be $\\frac{1}{n}2^n$. Present day algorithms perform slightly worse with a bit less than $2^n$ parallel operations, most of which are expensive 2-qubit gates. \n",
    "\n",
    "For doing state prepration in linear time we will use the state prepration routien presented by Möttönen et al. They approached the problem in the reverse manner to map an arbitrary state $|\\psi\\rangle$ to the initialization state $|0,0,...,0\\rangle$. While using this algorithm for state prepration we invert the operations used in bringing to ground state and implement them in reverse order. The central idea of this algorithm is to control a rotation on qubit $q_s$ using the possible states of the previous qubits $q_1,..., q_{s−1}$, using sequences of so-called multi-controlled rotations. A full sequence of multi-controlled rotations with angles $\\beta_i$ consists of the successive application of the $2^{s−1}$ gates.\n",
    "\n",
    "$$C_{q_1=0}...C_{q_{s-1}=0}\\ R^{q_s}({\\beta_1})|q_1...q_{s-1}\\rangle|q_s\\rangle$$\n",
    "\n",
    "$$C_{q_1=0}...C_{q_{s-1}=0}\\ R^{q_s}({\\beta_2})|q_1...q_{s-1}\\rangle|q_s\\rangle$$\n",
    "$$.$$\n",
    "$$.$$\n",
    "$$.$$\n",
    "$$C_{q_1=0}...C_{q_{s-1}=0}\\ R^{q_s}({\\beta_2^{s-1}})|q_1...q_{s-1}\\rangle|q_s\\rangle$$\n"
   ]
  },
  {
   "cell_type": "markdown",
   "id": "36ecba37",
   "metadata": {},
   "source": [
    "As example, for $s=3$ the sequence is as follows:\n",
    "\n",
    "$$C_{q_1=0}C_{q_2=0}R^{q_3}(\\beta_1)|q_1q_2\\rangle|q_3\\rangle$$\n",
    "\n",
    "$$C_{q_1=0}C_{q_2=1}R^{q_3}(\\beta_2)|q_1q_2\\rangle|q_3\\rangle$$\n",
    "\n",
    "$$C_{q_1=1}C_{q_2=0}R^{q_3}(\\beta_3)|q_1q_2\\rangle|q_3\\rangle$$\n",
    "\n",
    "$$C_{q_1=1}C_{q_2=1}R^{q_3}(\\beta_4)|q_1q_2\\rangle|q_3\\rangle$$\n",
    "\n",
    "\n",
    "\n",
    "This rotates $q_3$ differently for all four branches of the superposition of $q_1$, $q_2$.\n",
    "\n",
    "The circuit diagram for the above full sequence of multi-controlled rotations is as follows:\n",
    "\n",
    "<img src=\"4.png\" width=\"350\" height=\"200\">"
   ]
  },
  {
   "cell_type": "markdown",
   "id": "79e64d46",
   "metadata": {},
   "source": [
    "We further need to decompose the multi_controlled rotations into elementary gates. If we have $s-1$ control qubits, we need $2^s$ CNOTs and $2^s$ single qubit gates.\n",
    "\n",
    "As example for multi-controlled rotation applied to the third of three qubits as above, the decomposition into three single controlled rotations would be as:\n",
    "\n",
    "<img src=\"5.png\" width=\"300\" height=\"150\">"
   ]
  },
  {
   "cell_type": "markdown",
   "id": "8003fef7",
   "metadata": {},
   "source": [
    "In general for an arbitrary quantum state, two series of such operations are required and each of them is a sequences of multi-controlled rotations that run trough all qubits from $q_1$ to $q_n$. The first series uses $R_z$-rotations and has the effect of equalising the signs of the amplitudes until the state only has one global phase which can be ignored (one thing to be kept in mind that we are doing the reverse prepration). The second series applies the $R_y$ rotations and that qualises amplitudes to result in the ground state. Follwing is an example where we have assumed that the states has positive amplitudes only, that implies we won't be needing the first $R_z$-rotations and we can directly move onto the second series of $R_y$ rotations.\n",
    "\n",
    "\n",
    "<img src=\"6.png\" width=\"400\" height=\"200\">\n",
    "\n",
    "We can calculate the $\\beta_j^s$ as:\n",
    "\n",
    "<img src=\"7.png\" width=\"250\" height=\"200\">"
   ]
  },
  {
   "cell_type": "markdown",
   "id": "0becfcd0",
   "metadata": {},
   "source": [
    "<b>Example</b>"
   ]
  },
  {
   "cell_type": "code",
   "execution_count": null,
   "id": "c9aa1b45",
   "metadata": {},
   "outputs": [],
   "source": []
  },
  {
   "cell_type": "markdown",
   "id": "cf0503ef",
   "metadata": {},
   "source": [
    "<b> 2.2 Qubit-Efficient State Preparation <b>"
   ]
  },
  {
   "cell_type": "code",
   "execution_count": null,
   "id": "e8c45f3b",
   "metadata": {},
   "outputs": [],
   "source": []
  },
  {
   "cell_type": "markdown",
   "id": "39fe3963",
   "metadata": {},
   "source": [
    "<b> 3. Encoding Inputs as Time Evolutions <b>"
   ]
  },
  {
   "cell_type": "markdown",
   "id": "2c8ba298",
   "metadata": {},
   "source": [
    "In the basis encoding as well as amplitude encoding both the strategies involve the prepration of a quantum state that directly represents the data. But here, time-evolution encoding associate a scalar value $x\\in R$ with the time\n",
    "$t$ in the unitary evolution by a Hamiltonian $H$ given by,\n",
    "\n",
    "$$U(x)=e^{(-ixH)}$$"
   ]
  },
  {
   "cell_type": "code",
   "execution_count": null,
   "id": "446574a8",
   "metadata": {},
   "outputs": [],
   "source": []
  },
  {
   "cell_type": "code",
   "execution_count": null,
   "id": "fa885e65",
   "metadata": {},
   "outputs": [],
   "source": []
  },
  {
   "cell_type": "code",
   "execution_count": null,
   "id": "be1ede34",
   "metadata": {},
   "outputs": [],
   "source": []
  },
  {
   "cell_type": "code",
   "execution_count": null,
   "id": "9f8c5fb0",
   "metadata": {},
   "outputs": [],
   "source": []
  },
  {
   "cell_type": "code",
   "execution_count": null,
   "id": "1ef29676",
   "metadata": {},
   "outputs": [],
   "source": []
  },
  {
   "cell_type": "code",
   "execution_count": null,
   "id": "fb54edab",
   "metadata": {},
   "outputs": [],
   "source": []
  },
  {
   "cell_type": "code",
   "execution_count": null,
   "id": "f7a04247",
   "metadata": {},
   "outputs": [],
   "source": []
  },
  {
   "cell_type": "code",
   "execution_count": null,
   "id": "b4959b53",
   "metadata": {},
   "outputs": [],
   "source": []
  },
  {
   "cell_type": "code",
   "execution_count": null,
   "id": "b24f49fa",
   "metadata": {},
   "outputs": [],
   "source": []
  },
  {
   "cell_type": "code",
   "execution_count": null,
   "id": "828113df",
   "metadata": {},
   "outputs": [],
   "source": []
  },
  {
   "cell_type": "markdown",
   "id": "66a40462",
   "metadata": {},
   "source": [
    "References:\n",
    "https://www.youtube.com/playlist?list=PLOFEBzvs-VvqJwybFxkTiDzhf5E11p8BI (QGSS2021)\n",
    "https://doi.org/10.1007/978-3-030-83098-4 (\"Machine Learning with Quantum Computers\", Maria Schuld and Francesco Petruccione)\n",
    "https://pennylane.ai/qml/whatisqml.html"
   ]
  },
  {
   "cell_type": "code",
   "execution_count": null,
   "id": "bee27968",
   "metadata": {},
   "outputs": [],
   "source": []
  },
  {
   "cell_type": "code",
   "execution_count": null,
   "id": "42958f04",
   "metadata": {},
   "outputs": [],
   "source": []
  }
 ],
 "metadata": {
  "kernelspec": {
   "display_name": "Python 3",
   "language": "python",
   "name": "python3"
  },
  "language_info": {
   "codemirror_mode": {
    "name": "ipython",
    "version": 3
   },
   "file_extension": ".py",
   "mimetype": "text/x-python",
   "name": "python",
   "nbconvert_exporter": "python",
   "pygments_lexer": "ipython3",
   "version": "3.9.5"
  }
 },
 "nbformat": 4,
 "nbformat_minor": 5
}
