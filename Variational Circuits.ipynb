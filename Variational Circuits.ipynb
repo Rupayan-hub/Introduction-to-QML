{
 "cells": [
  {
   "cell_type": "markdown",
   "id": "5ba444d0",
   "metadata": {},
   "source": [
    "## Training a variational quantum circuit"
   ]
  },
  {
   "cell_type": "markdown",
   "id": "1ea62a48",
   "metadata": {},
   "source": [
    "We explain this part through an example"
   ]
  },
  {
   "cell_type": "markdown",
   "id": "2aa7a06b",
   "metadata": {},
   "source": [
    "### Importing modules"
   ]
  },
  {
   "cell_type": "code",
   "execution_count": 10,
   "id": "ca554eef",
   "metadata": {},
   "outputs": [],
   "source": [
    "import pennylane as qml\n",
    "from pennylane import numpy as np \n",
    "from qiskit import*\n",
    "import math as math\n",
    "import numpy as np\n",
    "from numpy import pi as pi\n",
    "from numpy import sqrt as sqrt\n",
    "import math as math\n",
    "import pandas as pd\n",
    "from sklearn.preprocessing import MinMaxScaler, StandardScaler\n",
    "from pennylane.templates.embeddings import AmplitudeEmbedding\n",
    "from sklearn.model_selection import train_test_split"
   ]
  },
  {
   "cell_type": "code",
   "execution_count": 4,
   "id": "4338b8d0",
   "metadata": {},
   "outputs": [],
   "source": [
    "dev = qml.device('default.qubit', wires=10, shots=20000)"
   ]
  },
  {
   "cell_type": "markdown",
   "id": "63196cc3",
   "metadata": {},
   "source": [
    "Our data is the catalogue data from SDSS Dr16. u,g,r,i,z are the fluxes in respective bands, redshift is the redshift of the object, and class is 0 if the object is star and 1 if its a galaxy"
   ]
  },
  {
   "cell_type": "code",
   "execution_count": 57,
   "id": "e1b2bf81",
   "metadata": {},
   "outputs": [
    {
     "data": {
      "text/html": [
       "<div>\n",
       "<style scoped>\n",
       "    .dataframe tbody tr th:only-of-type {\n",
       "        vertical-align: middle;\n",
       "    }\n",
       "\n",
       "    .dataframe tbody tr th {\n",
       "        vertical-align: top;\n",
       "    }\n",
       "\n",
       "    .dataframe thead th {\n",
       "        text-align: right;\n",
       "    }\n",
       "</style>\n",
       "<table border=\"1\" class=\"dataframe\">\n",
       "  <thead>\n",
       "    <tr style=\"text-align: right;\">\n",
       "      <th></th>\n",
       "      <th>Unnamed: 0</th>\n",
       "      <th>u</th>\n",
       "      <th>g</th>\n",
       "      <th>r</th>\n",
       "      <th>i</th>\n",
       "      <th>z</th>\n",
       "      <th>class</th>\n",
       "      <th>redshift</th>\n",
       "    </tr>\n",
       "  </thead>\n",
       "  <tbody>\n",
       "    <tr>\n",
       "      <th>0</th>\n",
       "      <td>0</td>\n",
       "      <td>18.69254</td>\n",
       "      <td>17.13867</td>\n",
       "      <td>16.55555</td>\n",
       "      <td>16.34662</td>\n",
       "      <td>16.17639</td>\n",
       "      <td>0.0</td>\n",
       "      <td>0.000115</td>\n",
       "    </tr>\n",
       "    <tr>\n",
       "      <th>1</th>\n",
       "      <td>26</td>\n",
       "      <td>19.13669</td>\n",
       "      <td>17.43355</td>\n",
       "      <td>17.09256</td>\n",
       "      <td>16.91690</td>\n",
       "      <td>16.58885</td>\n",
       "      <td>1.0</td>\n",
       "      <td>0.019020</td>\n",
       "    </tr>\n",
       "    <tr>\n",
       "      <th>2</th>\n",
       "      <td>34</td>\n",
       "      <td>18.72582</td>\n",
       "      <td>17.54478</td>\n",
       "      <td>17.06506</td>\n",
       "      <td>16.88649</td>\n",
       "      <td>16.79680</td>\n",
       "      <td>0.0</td>\n",
       "      <td>-0.000015</td>\n",
       "    </tr>\n",
       "    <tr>\n",
       "      <th>3</th>\n",
       "      <td>39</td>\n",
       "      <td>19.16617</td>\n",
       "      <td>17.57986</td>\n",
       "      <td>16.80475</td>\n",
       "      <td>16.35483</td>\n",
       "      <td>16.01940</td>\n",
       "      <td>1.0</td>\n",
       "      <td>0.061022</td>\n",
       "    </tr>\n",
       "    <tr>\n",
       "      <th>4</th>\n",
       "      <td>49</td>\n",
       "      <td>18.95918</td>\n",
       "      <td>17.09173</td>\n",
       "      <td>16.25019</td>\n",
       "      <td>15.83413</td>\n",
       "      <td>15.55686</td>\n",
       "      <td>1.0</td>\n",
       "      <td>0.064456</td>\n",
       "    </tr>\n",
       "    <tr>\n",
       "      <th>...</th>\n",
       "      <td>...</td>\n",
       "      <td>...</td>\n",
       "      <td>...</td>\n",
       "      <td>...</td>\n",
       "      <td>...</td>\n",
       "      <td>...</td>\n",
       "      <td>...</td>\n",
       "      <td>...</td>\n",
       "    </tr>\n",
       "    <tr>\n",
       "      <th>295</th>\n",
       "      <td>2604</td>\n",
       "      <td>18.25147</td>\n",
       "      <td>16.98479</td>\n",
       "      <td>16.52890</td>\n",
       "      <td>16.63696</td>\n",
       "      <td>16.33264</td>\n",
       "      <td>0.0</td>\n",
       "      <td>0.000080</td>\n",
       "    </tr>\n",
       "    <tr>\n",
       "      <th>296</th>\n",
       "      <td>2606</td>\n",
       "      <td>18.81737</td>\n",
       "      <td>17.59944</td>\n",
       "      <td>17.09213</td>\n",
       "      <td>16.87947</td>\n",
       "      <td>16.80449</td>\n",
       "      <td>0.0</td>\n",
       "      <td>0.000575</td>\n",
       "    </tr>\n",
       "    <tr>\n",
       "      <th>297</th>\n",
       "      <td>2610</td>\n",
       "      <td>18.78798</td>\n",
       "      <td>17.27448</td>\n",
       "      <td>16.46987</td>\n",
       "      <td>16.00137</td>\n",
       "      <td>15.67138</td>\n",
       "      <td>1.0</td>\n",
       "      <td>0.075507</td>\n",
       "    </tr>\n",
       "    <tr>\n",
       "      <th>298</th>\n",
       "      <td>2615</td>\n",
       "      <td>18.95853</td>\n",
       "      <td>17.36799</td>\n",
       "      <td>16.61208</td>\n",
       "      <td>16.27441</td>\n",
       "      <td>15.99602</td>\n",
       "      <td>1.0</td>\n",
       "      <td>0.027828</td>\n",
       "    </tr>\n",
       "    <tr>\n",
       "      <th>299</th>\n",
       "      <td>2626</td>\n",
       "      <td>18.73049</td>\n",
       "      <td>17.56926</td>\n",
       "      <td>17.03111</td>\n",
       "      <td>16.71652</td>\n",
       "      <td>16.52069</td>\n",
       "      <td>1.0</td>\n",
       "      <td>0.063083</td>\n",
       "    </tr>\n",
       "  </tbody>\n",
       "</table>\n",
       "<p>300 rows × 8 columns</p>\n",
       "</div>"
      ],
      "text/plain": [
       "     Unnamed: 0         u         g         r         i         z  class  \\\n",
       "0             0  18.69254  17.13867  16.55555  16.34662  16.17639    0.0   \n",
       "1            26  19.13669  17.43355  17.09256  16.91690  16.58885    1.0   \n",
       "2            34  18.72582  17.54478  17.06506  16.88649  16.79680    0.0   \n",
       "3            39  19.16617  17.57986  16.80475  16.35483  16.01940    1.0   \n",
       "4            49  18.95918  17.09173  16.25019  15.83413  15.55686    1.0   \n",
       "..          ...       ...       ...       ...       ...       ...    ...   \n",
       "295        2604  18.25147  16.98479  16.52890  16.63696  16.33264    0.0   \n",
       "296        2606  18.81737  17.59944  17.09213  16.87947  16.80449    0.0   \n",
       "297        2610  18.78798  17.27448  16.46987  16.00137  15.67138    1.0   \n",
       "298        2615  18.95853  17.36799  16.61208  16.27441  15.99602    1.0   \n",
       "299        2626  18.73049  17.56926  17.03111  16.71652  16.52069    1.0   \n",
       "\n",
       "     redshift  \n",
       "0    0.000115  \n",
       "1    0.019020  \n",
       "2   -0.000015  \n",
       "3    0.061022  \n",
       "4    0.064456  \n",
       "..        ...  \n",
       "295  0.000080  \n",
       "296  0.000575  \n",
       "297  0.075507  \n",
       "298  0.027828  \n",
       "299  0.063083  \n",
       "\n",
       "[300 rows x 8 columns]"
      ]
     },
     "execution_count": 57,
     "metadata": {},
     "output_type": "execute_result"
    }
   ],
   "source": [
    "data_o = pd.read_csv(\"400_data.csv\")\n",
    "data_o[:300]"
   ]
  },
  {
   "cell_type": "code",
   "execution_count": 18,
   "id": "f7ea5c53",
   "metadata": {},
   "outputs": [],
   "source": [
    "N=6"
   ]
  },
  {
   "cell_type": "code",
   "execution_count": 58,
   "id": "99b07d36",
   "metadata": {},
   "outputs": [
    {
     "data": {
      "text/html": [
       "<div>\n",
       "<style scoped>\n",
       "    .dataframe tbody tr th:only-of-type {\n",
       "        vertical-align: middle;\n",
       "    }\n",
       "\n",
       "    .dataframe tbody tr th {\n",
       "        vertical-align: top;\n",
       "    }\n",
       "\n",
       "    .dataframe thead th {\n",
       "        text-align: right;\n",
       "    }\n",
       "</style>\n",
       "<table border=\"1\" class=\"dataframe\">\n",
       "  <thead>\n",
       "    <tr style=\"text-align: right;\">\n",
       "      <th></th>\n",
       "      <th>u</th>\n",
       "      <th>g</th>\n",
       "      <th>r</th>\n",
       "      <th>i</th>\n",
       "      <th>z</th>\n",
       "      <th>redshift</th>\n",
       "      <th>class</th>\n",
       "    </tr>\n",
       "  </thead>\n",
       "  <tbody>\n",
       "    <tr>\n",
       "      <th>0</th>\n",
       "      <td>18.69254</td>\n",
       "      <td>17.13867</td>\n",
       "      <td>16.55555</td>\n",
       "      <td>16.34662</td>\n",
       "      <td>16.17639</td>\n",
       "      <td>0.000115</td>\n",
       "      <td>0.0</td>\n",
       "    </tr>\n",
       "    <tr>\n",
       "      <th>1</th>\n",
       "      <td>19.13669</td>\n",
       "      <td>17.43355</td>\n",
       "      <td>17.09256</td>\n",
       "      <td>16.91690</td>\n",
       "      <td>16.58885</td>\n",
       "      <td>0.019020</td>\n",
       "      <td>1.0</td>\n",
       "    </tr>\n",
       "    <tr>\n",
       "      <th>2</th>\n",
       "      <td>18.72582</td>\n",
       "      <td>17.54478</td>\n",
       "      <td>17.06506</td>\n",
       "      <td>16.88649</td>\n",
       "      <td>16.79680</td>\n",
       "      <td>-0.000015</td>\n",
       "      <td>0.0</td>\n",
       "    </tr>\n",
       "    <tr>\n",
       "      <th>3</th>\n",
       "      <td>19.16617</td>\n",
       "      <td>17.57986</td>\n",
       "      <td>16.80475</td>\n",
       "      <td>16.35483</td>\n",
       "      <td>16.01940</td>\n",
       "      <td>0.061022</td>\n",
       "      <td>1.0</td>\n",
       "    </tr>\n",
       "    <tr>\n",
       "      <th>4</th>\n",
       "      <td>18.95918</td>\n",
       "      <td>17.09173</td>\n",
       "      <td>16.25019</td>\n",
       "      <td>15.83413</td>\n",
       "      <td>15.55686</td>\n",
       "      <td>0.064456</td>\n",
       "      <td>1.0</td>\n",
       "    </tr>\n",
       "    <tr>\n",
       "      <th>...</th>\n",
       "      <td>...</td>\n",
       "      <td>...</td>\n",
       "      <td>...</td>\n",
       "      <td>...</td>\n",
       "      <td>...</td>\n",
       "      <td>...</td>\n",
       "      <td>...</td>\n",
       "    </tr>\n",
       "    <tr>\n",
       "      <th>295</th>\n",
       "      <td>18.25147</td>\n",
       "      <td>16.98479</td>\n",
       "      <td>16.52890</td>\n",
       "      <td>16.63696</td>\n",
       "      <td>16.33264</td>\n",
       "      <td>0.000080</td>\n",
       "      <td>0.0</td>\n",
       "    </tr>\n",
       "    <tr>\n",
       "      <th>296</th>\n",
       "      <td>18.81737</td>\n",
       "      <td>17.59944</td>\n",
       "      <td>17.09213</td>\n",
       "      <td>16.87947</td>\n",
       "      <td>16.80449</td>\n",
       "      <td>0.000575</td>\n",
       "      <td>0.0</td>\n",
       "    </tr>\n",
       "    <tr>\n",
       "      <th>297</th>\n",
       "      <td>18.78798</td>\n",
       "      <td>17.27448</td>\n",
       "      <td>16.46987</td>\n",
       "      <td>16.00137</td>\n",
       "      <td>15.67138</td>\n",
       "      <td>0.075507</td>\n",
       "      <td>1.0</td>\n",
       "    </tr>\n",
       "    <tr>\n",
       "      <th>298</th>\n",
       "      <td>18.95853</td>\n",
       "      <td>17.36799</td>\n",
       "      <td>16.61208</td>\n",
       "      <td>16.27441</td>\n",
       "      <td>15.99602</td>\n",
       "      <td>0.027828</td>\n",
       "      <td>1.0</td>\n",
       "    </tr>\n",
       "    <tr>\n",
       "      <th>299</th>\n",
       "      <td>18.73049</td>\n",
       "      <td>17.56926</td>\n",
       "      <td>17.03111</td>\n",
       "      <td>16.71652</td>\n",
       "      <td>16.52069</td>\n",
       "      <td>0.063083</td>\n",
       "      <td>1.0</td>\n",
       "    </tr>\n",
       "  </tbody>\n",
       "</table>\n",
       "<p>300 rows × 7 columns</p>\n",
       "</div>"
      ],
      "text/plain": [
       "            u         g         r         i         z  redshift  class\n",
       "0    18.69254  17.13867  16.55555  16.34662  16.17639  0.000115    0.0\n",
       "1    19.13669  17.43355  17.09256  16.91690  16.58885  0.019020    1.0\n",
       "2    18.72582  17.54478  17.06506  16.88649  16.79680 -0.000015    0.0\n",
       "3    19.16617  17.57986  16.80475  16.35483  16.01940  0.061022    1.0\n",
       "4    18.95918  17.09173  16.25019  15.83413  15.55686  0.064456    1.0\n",
       "..        ...       ...       ...       ...       ...       ...    ...\n",
       "295  18.25147  16.98479  16.52890  16.63696  16.33264  0.000080    0.0\n",
       "296  18.81737  17.59944  17.09213  16.87947  16.80449  0.000575    0.0\n",
       "297  18.78798  17.27448  16.46987  16.00137  15.67138  0.075507    1.0\n",
       "298  18.95853  17.36799  16.61208  16.27441  15.99602  0.027828    1.0\n",
       "299  18.73049  17.56926  17.03111  16.71652  16.52069  0.063083    1.0\n",
       "\n",
       "[300 rows x 7 columns]"
      ]
     },
     "execution_count": 58,
     "metadata": {},
     "output_type": "execute_result"
    }
   ],
   "source": [
    "data = data_o[[ 'u', 'g', 'r', 'i', 'z', 'redshift','class']][:300]\n",
    "data"
   ]
  },
  {
   "cell_type": "markdown",
   "id": "dff61095",
   "metadata": {},
   "source": [
    "Performing data preprocessing"
   ]
  },
  {
   "cell_type": "code",
   "execution_count": 59,
   "id": "8832fada",
   "metadata": {},
   "outputs": [
    {
     "name": "stderr",
     "output_type": "stream",
     "text": [
      "C:\\Users\\Dheeru\\AppData\\Local\\Temp/ipykernel_16404/1030090167.py:2: FutureWarning: In a future version of pandas all arguments of DataFrame.drop except for the argument 'labels' will be keyword-only\n",
      "  X_train, X_test, y_train, y_test = train_test_split(data.drop(['class'],1), data['class'], test_size=0.25, random_state=42)\n"
     ]
    }
   ],
   "source": [
    "xscaler = MinMaxScaler((0,np.pi))\n",
    "X_train, X_test, y_train, y_test = train_test_split(data.drop(['class'],1), data['class'], test_size=0.25, random_state=42)\n",
    "Xs_train = xscaler.fit_transform(X_train)\n",
    "y_train,y_test=y_train.values,y_test.values\n",
    "Xs_test = xscaler.transform(X_test)"
   ]
  },
  {
   "cell_type": "markdown",
   "id": "0278f743",
   "metadata": {},
   "source": [
    "Creating our circuit where we encode the data directly using the RY gate, where data values are scaled between 0 to pi"
   ]
  },
  {
   "cell_type": "code",
   "execution_count": 60,
   "id": "870ad9a4",
   "metadata": {},
   "outputs": [],
   "source": [
    "@qml.qnode(dev)\n",
    "def circuit(data, oom):\n",
    "\n",
    "    for i in range(N):\n",
    "        qml.RY(data[i], wires=i)\n",
    "    \n",
    "    for i in range(N):\n",
    "        qml.RX(oom[i], wires=i)\n",
    "    \n",
    "    for i in range(N-1):\n",
    "        qml.CNOT(wires=[i,i+1])\n",
    "    qml.CNOT(wires=[5,0])\n",
    "    \n",
    "    for i in range(N):\n",
    "        qml.RY(oom[N+i], wires=i)\n",
    "    \n",
    "    ex=[]\n",
    "    '''for i in range(N):\n",
    "        ex.append(qml.expval(qml.PauliX(i)))\n",
    "    print(ex)\n",
    "    e=np.mean(ex)np.bincount(x).argmax()'''\n",
    "    return qml.probs(wires=range(N))\n",
    "    #return [qml.expval(qml.PauliX(i)) for i in range(N)]"
   ]
  },
  {
   "cell_type": "code",
   "execution_count": 61,
   "id": "ba440846",
   "metadata": {},
   "outputs": [
    {
     "name": "stdout",
     "output_type": "stream",
     "text": [
      " 0: ──RY(1.71)─────RX(0.69)────╭C────────────────────────────────────────────────────╭X──RY(2.32)──╭┤ Probs \n",
      " 1: ──RY(0.619)────RX(2.22)────╰X──╭C───RY(0.887)────────────────────────────────────│─────────────├┤ Probs \n",
      " 2: ──RY(0.259)────RX(0.815)───────╰X──╭C───────────RY(2.62)─────────────────────────│─────────────├┤ Probs \n",
      " 3: ──RY(0.407)────RX(0.222)───────────╰X──────────╭C──────────RY(0.54)──────────────│─────────────├┤ Probs \n",
      " 4: ──RY(0.7)──────RX(0.0497)──────────────────────╰X─────────╭C─────────RY(0.0377)──│─────────────├┤ Probs \n",
      " 5: ──RY(0.00247)──RX(2.32)───────────────────────────────────╰X─────────────────────╰C──RY(2.3)───╰┤ Probs \n",
      "\n"
     ]
    }
   ],
   "source": [
    "drawer=qml.draw(circuit)\n",
    "oom=np.random.uniform(0,np.pi,N*2)\n",
    "print(drawer(Xs_train[0],oom))"
   ]
  },
  {
   "cell_type": "code",
   "execution_count": 62,
   "id": "c2bce596",
   "metadata": {},
   "outputs": [],
   "source": [
    "def prediction(data,param):\n",
    "    probs=circuit(data,param)\n",
    "    return 1 if sum(probs[:len(probs)//2])<0.5 else 0\n",
    "def cost(param):\n",
    "    cost = 0\n",
    "    for k in range(len(Xs_train)):\n",
    "        cost += abs(prediction(Xs_train[i],param) - y_train[k])\n",
    "    return cost"
   ]
  },
  {
   "cell_type": "code",
   "execution_count": 51,
   "id": "8c9547b5",
   "metadata": {},
   "outputs": [
    {
     "data": {
      "text/plain": [
       "array([1., 1., 0., ..., 1., 1., 0.])"
      ]
     },
     "execution_count": 51,
     "metadata": {},
     "output_type": "execute_result"
    }
   ],
   "source": [
    "y_train.values"
   ]
  },
  {
   "cell_type": "markdown",
   "id": "b7192aaa",
   "metadata": {},
   "source": [
    "We use the Gradient descent optimiser to optimise the cost function"
   ]
  },
  {
   "cell_type": "code",
   "execution_count": 66,
   "id": "59f7eb4c",
   "metadata": {},
   "outputs": [],
   "source": [
    "opt = qml.GradientDescentOptimizer(stepsize = 0.05)\n",
    "steps = 15\n",
    "param = np.random.uniform(0,np.pi,N*2)"
   ]
  },
  {
   "cell_type": "code",
   "execution_count": 67,
   "id": "a059f671",
   "metadata": {},
   "outputs": [
    {
     "data": {
      "text/plain": [
       "79.0"
      ]
     },
     "execution_count": 67,
     "metadata": {},
     "output_type": "execute_result"
    }
   ],
   "source": [
    "cost(param) # initial cost fucntion"
   ]
  },
  {
   "cell_type": "code",
   "execution_count": 68,
   "id": "27a0dead",
   "metadata": {},
   "outputs": [
    {
     "data": {
      "text/plain": [
       "array([0.79004712, 0.75489367, 2.73584442, 1.11784902, 2.14994019,\n",
       "       0.9910167 , 0.92081763, 1.69120228, 1.5815369 , 1.86374752,\n",
       "       1.63516858, 1.61725341])"
      ]
     },
     "execution_count": 68,
     "metadata": {},
     "output_type": "execute_result"
    }
   ],
   "source": [
    "param"
   ]
  },
  {
   "cell_type": "code",
   "execution_count": 69,
   "id": "28fa6a9c",
   "metadata": {},
   "outputs": [
    {
     "name": "stdout",
     "output_type": "stream",
     "text": [
      "cost funtion on step     5:  79.0000000\n",
      "cost funtion on step    10:  79.0000000\n",
      "cost funtion on step    15:  79.0000000\n",
      "optimized rotation angle: [0.79004712 0.75489367 2.73584442 1.11784902 2.14994019 0.9910167\n",
      " 0.92081763 1.69120228 1.5815369  1.86374752 1.63516858 1.61725341]\n"
     ]
    }
   ],
   "source": [
    "for i in range(steps):\n",
    "    param = opt.step(cost, param)\n",
    "    if (i+1)%5 ==0:\n",
    "        print(\"cost funtion on step {:5d}: {: .7f}\".format( i+1, cost(param)))\n",
    "print('optimized rotation angle: {}'.format(param))"
   ]
  },
  {
   "cell_type": "markdown",
   "id": "15f5de62",
   "metadata": {},
   "source": [
    "Currently the optimization has some problems.. We are trying to solve this"
   ]
  }
 ],
 "metadata": {
  "kernelspec": {
   "display_name": "Python 3 (ipykernel)",
   "language": "python",
   "name": "python3"
  },
  "language_info": {
   "codemirror_mode": {
    "name": "ipython",
    "version": 3
   },
   "file_extension": ".py",
   "mimetype": "text/x-python",
   "name": "python",
   "nbconvert_exporter": "python",
   "pygments_lexer": "ipython3",
   "version": "3.8.12"
  }
 },
 "nbformat": 4,
 "nbformat_minor": 5
}
